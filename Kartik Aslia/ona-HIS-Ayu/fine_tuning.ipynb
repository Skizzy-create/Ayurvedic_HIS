{
 "cells": [
  {
   "cell_type": "code",
   "execution_count": 1,
   "metadata": {},
   "outputs": [],
   "source": [
    "from datasets import load_dataset\n",
    "\n",
    "# Specify the file paths of the text files\n",
    "train_file_path = \"C:\\\\Users\\\\LENOVO\\\\PycharmProjects\\\\Ayurvedic_HIS\\\\Kartik Aslia\\\\ona-HIS-Ayu\\\\Data\\\\Labeled_Datasets\\\\ADDH\\\\train_data.txt\"\n",
    "eval_file_path = \"C:\\\\Users\\\\LENOVO\\\\PycharmProjects\\\\Ayurvedic_HIS\\\\Kartik Aslia\\\\ona-HIS-Ayu\\\\Data\\\\Labeled_Datasets\\\\ADDH\\\\eval_data.txt\"\n",
    "train_file_path = \"C:\\\\Users\\\\LENOVO\\\\PycharmProjects\\\\Ayurvedic_HIS\\\\Kartik Aslia\\\\ona-HIS-Ayu\\\\Data\\\\Labeled_Datasets\\\\ADDH\\\\output.txt\"\n",
    "\n",
    "\n",
    "train_dataset = load_dataset('text', data_files=train_file_path, split='train')\n",
    "eval_dataset = load_dataset('text', data_files=eval_file_path, split='train')"
   ]
  },
  {
   "cell_type": "code",
   "execution_count": 2,
   "metadata": {},
   "outputs": [
    {
     "data": {
      "text/plain": [
       "'{\"\\\\\"###user\": \"my \\'age\\' is 18 and I am suffering from diarrhea, severity is \\'HIGH\\', ###assistant: you must have \\'tribhuvan kirti rasa\\' it will help you\\\\\"\"}'"
      ]
     },
     "execution_count": 2,
     "metadata": {},
     "output_type": "execute_result"
    }
   ],
   "source": [
    "import json\n",
    "\n",
    "def convert_txt_to_json(txt_file_path):\n",
    "    with open(txt_file_path, 'r') as file:\n",
    "        lines = file.readlines()\n",
    "\n",
    "    data = {}\n",
    "    for line in lines:\n",
    "        line = line.strip()\n",
    "        if ':' in line:\n",
    "            key, *values = line.split(':')\n",
    "            value = ':'.join(values).strip()\n",
    "            data[key.strip()] = value\n",
    "        else:\n",
    "            # Handle lines without a colon\n",
    "            # You can decide what to do in this case\n",
    "            pass\n",
    "\n",
    "    return json.dumps(data)\n",
    "\n",
    "convert_txt_to_json(train_file_path)\n"
   ]
  },
  {
   "cell_type": "code",
   "execution_count": 3,
   "metadata": {},
   "outputs": [
    {
     "name": "stdout",
     "output_type": "stream",
     "text": [
      "\n",
      "===================================BUG REPORT===================================\n",
      "Welcome to bitsandbytes. For bug reports, please submit your error trace to: https://github.com/TimDettmers/bitsandbytes/issues\n",
      "================================================================================\n",
      "binary_path: c:\\Users\\LENOVO\\.conda\\envs\\cuda\\lib\\site-packages\\bitsandbytes\\cuda_setup\\libbitsandbytes_cuda116.dll\n",
      "CUDA SETUP: Loading binary c:\\Users\\LENOVO\\.conda\\envs\\cuda\\lib\\site-packages\\bitsandbytes\\cuda_setup\\libbitsandbytes_cuda116.dll...\n"
     ]
    },
    {
     "ename": "ImportError",
     "evalue": "cannot import name 'Llama2Tokenizer' from 'transformers' (c:\\Users\\LENOVO\\.conda\\envs\\cuda\\lib\\site-packages\\transformers\\__init__.py)",
     "output_type": "error",
     "traceback": [
      "\u001b[1;31m---------------------------------------------------------------------------\u001b[0m",
      "\u001b[1;31mImportError\u001b[0m                               Traceback (most recent call last)",
      "\u001b[1;32mc:\\Users\\LENOVO\\PycharmProjects\\Ayurvedic_HIS\\Kartik Aslia\\ona-HIS-Ayu\\fine_tuning.ipynb Cell 3\u001b[0m line \u001b[0;36m1\n\u001b[1;32m----> <a href='vscode-notebook-cell:/c%3A/Users/LENOVO/PycharmProjects/Ayurvedic_HIS/Kartik%20Aslia/ona-HIS-Ayu/fine_tuning.ipynb#W2sZmlsZQ%3D%3D?line=0'>1</a>\u001b[0m \u001b[39mfrom\u001b[39;00m \u001b[39mtransformers\u001b[39;00m \u001b[39mimport\u001b[39;00m Llama2Tokenizer, Llama2ForSequenceClassification, Trainer, TrainingArguments\n\u001b[0;32m      <a href='vscode-notebook-cell:/c%3A/Users/LENOVO/PycharmProjects/Ayurvedic_HIS/Kartik%20Aslia/ona-HIS-Ayu/fine_tuning.ipynb#W2sZmlsZQ%3D%3D?line=2'>3</a>\u001b[0m \u001b[39m# Load the tokenizer and model\u001b[39;00m\n\u001b[0;32m      <a href='vscode-notebook-cell:/c%3A/Users/LENOVO/PycharmProjects/Ayurvedic_HIS/Kartik%20Aslia/ona-HIS-Ayu/fine_tuning.ipynb#W2sZmlsZQ%3D%3D?line=3'>4</a>\u001b[0m tokenizer \u001b[39m=\u001b[39m Llama2Tokenizer\u001b[39m.\u001b[39mfrom_pretrained(\u001b[39m\"\u001b[39m\u001b[39mllama2\u001b[39m\u001b[39m\"\u001b[39m)\n",
      "\u001b[1;31mImportError\u001b[0m: cannot import name 'Llama2Tokenizer' from 'transformers' (c:\\Users\\LENOVO\\.conda\\envs\\cuda\\lib\\site-packages\\transformers\\__init__.py)"
     ]
    }
   ],
   "source": [
    "from transformers import Llama2Tokenizer, Llama2ForSequenceClassification, Trainer, TrainingArguments\n",
    "\n",
    "# Load the tokenizer and model\n",
    "tokenizer = Llama2Tokenizer.from_pretrained(\"llama2\")\n",
    "model = Llama2ForSequenceClassification.from_pretrained(\"llama2\")\n",
    "\n",
    "# Define the training arguments\n",
    "training_args = TrainingArguments(\n",
    "    output_dir=\"./output\",\n",
    "    num_train_epochs=3,\n",
    "    per_device_train_batch_size=16,\n",
    "    per_device_eval_batch_size=16,\n",
    "    warmup_steps=500,\n",
    "    weight_decay=0.01,\n",
    "    logging_dir=\"./logs\",\n",
    ")\n",
    "\n",
    "# Create a Trainer\n",
    "trainer = Trainer(\n",
    "    model=model,\n",
    "    args=training_args,\n",
    "    train_dataset=dataset[\"train\"],  # Assuming you have split your dataset into train, validation, and test sets\n",
    "    eval_dataset=dataset[\"validation\"],\n",
    ")\n",
    "\n",
    "# Fine-tune the model\n",
    "trainer.train()\n"
   ]
  },
  {
   "cell_type": "code",
   "execution_count": null,
   "metadata": {},
   "outputs": [],
   "source": []
  }
 ],
 "metadata": {
  "kernelspec": {
   "display_name": "cuda-gpt",
   "language": "python",
   "name": "cuda"
  },
  "language_info": {
   "codemirror_mode": {
    "name": "ipython",
    "version": 3
   },
   "file_extension": ".py",
   "mimetype": "text/x-python",
   "name": "python",
   "nbconvert_exporter": "python",
   "pygments_lexer": "ipython3",
   "version": "3.10.9"
  },
  "orig_nbformat": 4
 },
 "nbformat": 4,
 "nbformat_minor": 2
}
